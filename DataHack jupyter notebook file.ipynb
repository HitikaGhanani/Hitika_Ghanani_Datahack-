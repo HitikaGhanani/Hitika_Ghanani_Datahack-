{
 "cells": [
  {
   "cell_type": "code",
   "execution_count": 1,
   "id": "eb41ae03-0d91-4423-9fb8-d1389cab2a9b",
   "metadata": {},
   "outputs": [],
   "source": [
    "import numpy as np\n",
    "import pandas as pd\n",
    "from sklearn.preprocessing import OneHotEncoder, StandardScaler\n",
    "from sklearn.compose import ColumnTransformer\n",
    "from sklearn.pipeline import Pipeline\n",
    "from sklearn.experimental import enable_iterative_imputer  # noqa\n",
    "from sklearn.impute import SimpleImputer, IterativeImputer\n",
    "from sklearn.model_selection import StratifiedKFold\n",
    "from sklearn.ensemble import BaggingClassifier\n",
    "from xgboost import XGBClassifier\n",
    "from sklearn.metrics import roc_auc_score"
   ]
  },
  {
   "cell_type": "code",
   "execution_count": 2,
   "id": "ed18fdc0-8881-4fbf-a6a0-2c18fe6b07a5",
   "metadata": {},
   "outputs": [],
   "source": [
    "# Load datasets\n",
    "train_features = pd.read_csv(r'C:\\Users\\hitik\\Downloads\\dataset and all\\training_set_features.csv')\n",
    "train_labels = pd.read_csv(r'C:\\Users\\hitik\\Downloads\\dataset and all\\training_set_labels.csv')\n",
    "test_features = pd.read_csv(r'C:\\Users\\hitik\\Downloads\\dataset and all\\test_set_features.csv')\n",
    "submission_format = pd.read_csv(r'C:\\Users\\hitik\\Downloads\\dataset and all\\submission_format.csv')"
   ]
  },
  {
   "cell_type": "code",
   "execution_count": 3,
   "id": "2f01fb0a-5499-4134-a6b9-35f2da418fc7",
   "metadata": {},
   "outputs": [],
   "source": [
    "# Separate target variables and drop unnecessary columns\n",
    "train_features = train_features.drop(['respondent_id', 'employment_industry', 'employment_occupation', 'health_insurance'], axis=1)\n",
    "target_xyz = train_labels['xyz_vaccine']\n",
    "target_seasonal = train_labels['seasonal_vaccine']\n",
    "test_ids = test_features['respondent_id']\n",
    "test_features = test_features.drop(['respondent_id', 'employment_industry', 'employment_occupation', 'health_insurance'], axis=1)"
   ]
  },
  {
   "cell_type": "code",
   "execution_count": 4,
   "id": "4e100049-d97e-453b-986e-83cb3b668478",
   "metadata": {},
   "outputs": [],
   "source": [
    "# Identify numerical and categorical columns\n",
    "numeric_cols = train_features.select_dtypes(include=['float64']).columns\n",
    "categorical_cols = train_features.select_dtypes(include=['object']).columns\n"
   ]
  },
  {
   "cell_type": "code",
   "execution_count": 9,
   "id": "36bddb43-0181-49e5-8295-559c97302953",
   "metadata": {},
   "outputs": [],
   "source": [
    "# Define transformers for numerical and categorical columns\n",
    "num_transformer = Pipeline(steps=[\n",
    "    ('impute', IterativeImputer(max_iter=12, tol=0.001, random_state=43)),  \n",
    "    ('scale', StandardScaler())\n",
    "])\n",
    "cat_transformer = Pipeline(steps=[\n",
    "    ('impute', SimpleImputer(strategy='most_frequent')),\n",
    "    ('onehot', OneHotEncoder(handle_unknown='ignore'))\n",
    "])"
   ]
  },
  {
   "cell_type": "code",
   "execution_count": 6,
   "id": "54f1c320-df0e-40c9-8f55-71e04fe1d7a3",
   "metadata": {},
   "outputs": [],
   "source": [
    "# Combine transformers\n",
    "preprocess = ColumnTransformer(\n",
    "    transformers=[\n",
    "        ('num', num_transformer, numeric_cols),\n",
    "        ('cat', cat_transformer, categorical_cols)\n",
    "    ])"
   ]
  },
  {
   "cell_type": "code",
   "execution_count": 10,
   "id": "70d7832e-8ffe-4dff-9129-20523bf8c8ee",
   "metadata": {},
   "outputs": [],
   "source": [
    "# Define cross-validator\n",
    "kf = StratifiedKFold(n_splits=5, shuffle=True, random_state=43)  \n",
    "\n",
    "# Hyperparameters for the model\n",
    "xgb_hyperparams = {'n_estimators': 110, 'max_depth': 6,'min_child_weight': 14, 'eta': 0.08, 'reg_lambda': 0.14,'random_state': 43} \n",
    "bagging_hyperparams = {'n_estimators': 45, 'random_state': 43,'max_samples': 0.85, 'max_features': 0.88, 'bootstrap': True}"
   ]
  },
  {
   "cell_type": "code",
   "execution_count": 8,
   "id": "6e08f485-2a08-4bde-9b49-f148576ed34a",
   "metadata": {},
   "outputs": [],
   "source": [
    "# Function to evaluate the model\n",
    "def evaluate_model(features, labels):\n",
    "    class_weight = (len(labels) - labels.sum()) / labels.sum()\n",
    "    xgb_model = XGBClassifier(objective='binary:logistic', scale_pos_weight=class_weight, **xgb_hyperparams)\n",
    "    bagging_model = BaggingClassifier(estimator=xgb_model, **bagging_hyperparams)\n",
    "    auc_scores = []\n",
    "\n",
    "    for train_idx, test_idx in kf.split(features, labels):\n",
    "        X_train, X_val = features[train_idx], features[test_idx]\n",
    "        y_train, y_val = labels[train_idx], labels[test_idx]\n",
    "\n",
    "        bagging_model.fit(X_train, y_train)\n",
    "        y_pred_proba = bagging_model.predict_proba(X_val)[:, 1]\n",
    "        auc = roc_auc_score(y_val, y_pred_proba, average=\"macro\")\n",
    "        auc_scores.append(auc)\n",
    "    \n",
    "    return np.mean(auc_scores)"
   ]
  },
  {
   "cell_type": "code",
   "execution_count": 11,
   "id": "470edcf0-6909-425f-9e21-48ae082765aa",
   "metadata": {},
   "outputs": [],
   "source": [
    "# Preprocess training features\n",
    "processed_train_features = preprocess.fit_transform(train_features)"
   ]
  },
  {
   "cell_type": "code",
   "execution_count": 12,
   "id": "5a23f1ac-d037-4369-ae1a-6366105b0513",
   "metadata": {},
   "outputs": [
    {
     "name": "stdout",
     "output_type": "stream",
     "text": [
      "Evaluating xyz_vaccine model...\n",
      "Mean ROC AUC Score for xyz_vaccine: 0.8380653228436256\n",
      "\n",
      "Evaluating seasonal_vaccine model...\n",
      "Mean ROC AUC Score for seasonal_vaccine: 0.8589333717046748\n",
      "\n",
      "Overall ROC AUC Score: 0.8484993472741502\n"
     ]
    }
   ],
   "source": [
    "# Evaluate models\n",
    "print(\"Evaluating xyz_vaccine model...\")\n",
    "roc_auc_xyz = evaluate_model(processed_train_features, target_xyz.values.ravel())\n",
    "print(\"Mean ROC AUC Score for xyz_vaccine:\", roc_auc_xyz)\n",
    "\n",
    "print(\"\\nEvaluating seasonal_vaccine model...\")\n",
    "roc_auc_seasonal = evaluate_model(processed_train_features, target_seasonal.values.ravel())\n",
    "print(\"Mean ROC AUC Score for seasonal_vaccine:\", roc_auc_seasonal)\n",
    "\n",
    "overall_auc = (roc_auc_xyz + roc_auc_seasonal) / 2\n",
    "print(\"\\nOverall ROC AUC Score:\", overall_auc)"
   ]
  },
  {
   "cell_type": "code",
   "execution_count": 13,
   "id": "4a77466b-1549-4aad-a92e-9714a3782a79",
   "metadata": {},
   "outputs": [],
   "source": [
    " # Preprocess test features\n",
    "processed_test_features = preprocess.transform(test_features)\n"
   ]
  },
  {
   "cell_type": "code",
   "execution_count": 14,
   "id": "80047813-286c-4fb7-a6d9-0033b0b02d3f",
   "metadata": {},
   "outputs": [],
   "source": [
    "# Function to train and predict\n",
    "def train_and_predict(features, labels, test_data):\n",
    "    class_weight = (len(labels) - labels.sum()) / labels.sum()\n",
    "    final_model = BaggingClassifier(estimator=XGBClassifier(objective='binary:logistic', scale_pos_weight=class_weight, **xgb_hyperparams), **bagging_hyperparams)\n",
    "    final_model.fit(features, labels)\n",
    "    predictions = final_model.predict_proba(test_data)[:, 1]\n",
    "    return np.round(predictions, 1)"
   ]
  },
  {
   "cell_type": "code",
   "execution_count": 15,
   "id": "a79710b3-8c4e-4002-8d25-d58bd6aea47f",
   "metadata": {},
   "outputs": [],
   "source": [
    "xyz_predictions = train_and_predict(processed_train_features, target_xyz.values.ravel(), processed_test_features)\n",
    "seasonal_predictions = train_and_predict(processed_train_features, target_seasonal.values.ravel(), processed_test_features)"
   ]
  },
  {
   "cell_type": "code",
   "execution_count": 16,
   "id": "df0f7e64-71a6-4ff5-8358-99fb768b7752",
   "metadata": {},
   "outputs": [],
   "source": [
    "# Create DataFrame for predictions\n",
    "submission_df = pd.DataFrame({\n",
    "    'respondent_id': test_ids,\n",
    "    'xyz_vaccine': xyz_predictions,\n",
    "    'seasonal_vaccine': seasonal_predictions\n",
    "})"
   ]
  },
  {
   "cell_type": "code",
   "execution_count": 17,
   "id": "88ef3bb9-9b76-427b-beec-c639dfb11d0c",
   "metadata": {},
   "outputs": [],
   "source": [
    "# Save results to CSV file\n",
    "submission_df.to_csv(r'C:\\Users\\hitik\\Downloads\\dataset and all\\results.csv', index=False)"
   ]
  }
 ],
 "metadata": {
  "kernelspec": {
   "display_name": "Python 3 (ipykernel)",
   "language": "python",
   "name": "python3"
  },
  "language_info": {
   "codemirror_mode": {
    "name": "ipython",
    "version": 3
   },
   "file_extension": ".py",
   "mimetype": "text/x-python",
   "name": "python",
   "nbconvert_exporter": "python",
   "pygments_lexer": "ipython3",
   "version": "3.11.7"
  }
 },
 "nbformat": 4,
 "nbformat_minor": 5
}
